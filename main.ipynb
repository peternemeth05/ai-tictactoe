{
 "cells": [
  {
   "cell_type": "code",
   "execution_count": 59,
   "id": "dec8cb4e",
   "metadata": {},
   "outputs": [
    {
     "name": "stdout",
     "output_type": "stream",
     "text": [
      "[[' ', ' ', ' '], [' ', ' ', ' '], [' ', ' ', ' ']]\n"
     ]
    }
   ],
   "source": [
    "def create_board() -> list:\n",
    "    return [[' ' ] * 3] * 3\n",
    "\n",
    "    \n",
    "print(create_board())\n"
   ]
  },
  {
   "cell_type": "code",
   "execution_count": 60,
   "id": "b2cca30d",
   "metadata": {},
   "outputs": [
    {
     "name": "stdout",
     "output_type": "stream",
     "text": [
      "     0  1  2\n",
      "   -----------\n",
      "0 |           |\n",
      "1 |           |\n",
      "2 |           |\n",
      "   -----------\n"
     ]
    }
   ],
   "source": [
    "def render(board):\n",
    "    print(\"     0  1  2\")\n",
    "    print(\"   -----------\")\n",
    "\n",
    "    for row in range(3):\n",
    "        print(f'{row} |  ', end='')\n",
    "\n",
    "        for col in range(3):\n",
    "            print(board[row][col], end = '  ')\n",
    "            pass\n",
    "\n",
    "        print('|')\n",
    "    print(\"   -----------\")\n",
    "\n",
    "\n",
    "render(create_board())"
   ]
  },
  {
   "cell_type": "code",
   "execution_count": null,
   "id": "701a7214",
   "metadata": {},
   "outputs": [],
   "source": [
    "def get_move():\n",
    "    try: \n",
    "        x_coord = int(input(\"What is your move's X coordinate?: \"))\n",
    "        y_coord = int(input(\"What is your move's Y coordinate?: \"))\n",
    "\n",
    "        return [x_coord, y_coord]\n",
    "    except ValueError:\n",
    "        print(\"Error, please input number 0 -> 2\")\n",
    "        get_move()\n",
    "    \n",
    "    \n",
    "\n",
    "get_move()"
   ]
  }
 ],
 "metadata": {
  "kernelspec": {
   "display_name": ".venv (3.13.1)",
   "language": "python",
   "name": "python3"
  },
  "language_info": {
   "codemirror_mode": {
    "name": "ipython",
    "version": 3
   },
   "file_extension": ".py",
   "mimetype": "text/x-python",
   "name": "python",
   "nbconvert_exporter": "python",
   "pygments_lexer": "ipython3",
   "version": "3.13.1"
  }
 },
 "nbformat": 4,
 "nbformat_minor": 5
}
